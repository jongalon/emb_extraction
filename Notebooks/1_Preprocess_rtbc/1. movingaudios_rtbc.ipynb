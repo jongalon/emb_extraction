{
 "cells": [
  {
   "cell_type": "markdown",
   "id": "0c8b2ed5",
   "metadata": {},
   "source": [
    "## Notebook Description\n",
    "\n",
    "This notebook processes the **RTBC-begging dataset** by organizing audio files and updating metadata. It performs the following tasks:\n",
    "\n",
    "### **Main Tasks:**\n",
    "\n",
    "1. **Move and Rename Audio Files:**\n",
    "   - Traverses the original dataset directory (`Original_datasets/rtbc-begging/begging`) to locate `.wav` files.\n",
    "   - Moves the files to the root folder (rtbc-begging) and renames them using the format:\n",
    "     ```\n",
    "     specie_year_[n].wav\n",
    "     ```\n",
    "     where:\n",
    "     - `specie` is the folder name representing the species (e.g., `32PC1`).\n",
    "     - `year` is the year folder (e.g., `2021-22`).\n",
    "     - `[n]` is the original file name or identifier.\n",
    "\n",
    "2. **Update Metadata:**\n",
    "   - Loads the original metadata CSV file (`Original_metadata/rtbc_metadata/metadata.csv`).\n",
    "   - Modifies the `file_name` column to reflect the new file naming convention:\n",
    "     ```\n",
    "     From: specie/year/[n].wav\n",
    "     To: specie_year_[n].wav\n",
    "     ```\n",
    "   - Saves the updated metadata to a new CSV file in the rtbc_metadata folder.\n",
    "\n",
    "3. **Error Handling:**\n",
    "   - Skips files that already exist in the destination folder to avoid overwriting.\n",
    "   - Handles potential errors during file processing and logs them.\n",
    "\n",
    "### **Output:**\n",
    "- Renamed and relocated audio files in the rtbc-begging folder.\n",
    "- Updated metadata saved as rtbc_metadata.csv\n",
    "\n",
    "This notebook ensures the RTBC-begging dataset is properly organized and ready for further analysis or processing."
   ]
  },
  {
   "cell_type": "code",
   "execution_count": 1,
   "id": "d80c7f68",
   "metadata": {},
   "outputs": [],
   "source": [
    "from pathlib import Path\n",
    "import shutil\n",
    "\n",
    "# Get the current working directory\n",
    "cwd = Path.cwd()\n",
    "\n",
    "# Move two levels up to reach the root of the project\n",
    "project_root = cwd.parents[1]\n",
    "\n",
    "# Build the path to the base folder and search folder\n",
    "base_folder = project_root / 'Original_datasets' / 'rtbc-begging'\n",
    "search_folder = base_folder / 'begging'\n",
    "\n",
    "# Traverse all subdirectories and find .wav files\n",
    "for full_path in search_folder.rglob('*.wav'):\n",
    "    try:\n",
    "        path_parts = full_path.parts\n",
    "        specie = path_parts[-3]   # E.g.: '32PC1'\n",
    "        year = path_parts[-2]     # E.g.: '2021-22'\n",
    "        filename = full_path.name # E.g.: '3.wav'\n",
    "\n",
    "        base_name = f\"{specie}_{year}_{full_path.stem}\"\n",
    "        extension = full_path.suffix\n",
    "\n",
    "        # Initial destination path\n",
    "        new_filename = f\"{base_name}{extension}\"\n",
    "        new_path = base_folder / new_filename\n",
    "\n",
    "        if new_path.exists():\n",
    "            print(f\"Skipped (already exists): {new_path}\")\n",
    "        else:\n",
    "            # Move the file\n",
    "            shutil.move(str(full_path), str(new_path))\n",
    "            print(f\"Moved: {full_path} → {new_path}\") \n",
    "\n",
    "\n",
    "    except IndexError:\n",
    "        print(f\"Could not process: {full_path}\")"
   ]
  },
  {
   "cell_type": "code",
   "execution_count": 2,
   "id": "b1d6320f",
   "metadata": {},
   "outputs": [
    {
     "name": "stdout",
     "output_type": "stream",
     "text": [
      "0    32PC1/2022-23/57.wav\n",
      "1     32PC1/2022-23/0.wav\n",
      "2    32PC1/2022-23/74.wav\n",
      "3    32PC1/2022-23/20.wav\n",
      "4    32PC1/2022-23/60.wav\n",
      "Name: file_name, dtype: object\n",
      "0    32PC1_2022-23_57.wav\n",
      "1     32PC1_2022-23_0.wav\n",
      "2    32PC1_2022-23_74.wav\n",
      "3    32PC1_2022-23_20.wav\n",
      "4    32PC1_2022-23_60.wav\n",
      "Name: file_name, dtype: object\n"
     ]
    }
   ],
   "source": [
    "import pandas as pd\n",
    "\n",
    "Original_metada_folder = project_root / 'Original_metadata' / 'rtbc_metadata'\n",
    "file_path = Original_metada_folder /  'metadata.csv'\n",
    "\n",
    "# Load the new CSV file\n",
    "df = pd.read_csv(file_path)\n",
    "print(df['file_name'].head())\n",
    "\n",
    "# Modify the 'file_name' column to change the format\n",
    "# From: 32PC1/2022-23/57.wav  → To: 32PC1_2022-23_57.wav\n",
    "df['file_name'] = df['file_name'].apply(lambda x: x.replace('/', '_'))\n",
    "print(df['file_name'].head())\n"
   ]
  },
  {
   "cell_type": "code",
   "execution_count": 3,
   "id": "00fb7447",
   "metadata": {},
   "outputs": [],
   "source": [
    "Output_metada_folder = project_root / 'Output_metadata' / 'rtbc_metadata'\n",
    "file_path = Output_metada_folder /  'rtbc_metadata.csv'\n",
    "\n",
    "df.to_csv(file_path, index=False)"
   ]
  }
 ],
 "metadata": {
  "kernelspec": {
   "display_name": "perceptron",
   "language": "python",
   "name": "python3"
  },
  "language_info": {
   "codemirror_mode": {
    "name": "ipython",
    "version": 3
   },
   "file_extension": ".py",
   "mimetype": "text/x-python",
   "name": "python",
   "nbconvert_exporter": "python",
   "pygments_lexer": "ipython3",
   "version": "3.12.9"
  }
 },
 "nbformat": 4,
 "nbformat_minor": 5
}
