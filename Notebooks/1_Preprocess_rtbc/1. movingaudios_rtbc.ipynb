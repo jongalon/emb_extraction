{
 "cells": [
  {
   "cell_type": "markdown",
   "id": "6ecf1fd5",
   "metadata": {},
   "source": [
    "This file takes the original path of the files in the rtbc-begging database, which is divided into folders by individual, year, and file, and moves them directly to the rtbc-begging folder, renaming the files to: \"specie_year_[n].wav\" where [n] is an integer representing the song."
   ]
  },
  {
   "cell_type": "code",
   "execution_count": 1,
   "id": "d80c7f68",
   "metadata": {},
   "outputs": [],
   "source": [
    "from pathlib import Path\n",
    "import shutil\n",
    "\n",
    "# Get the current working directory\n",
    "cwd = Path.cwd()\n",
    "\n",
    "# Move two levels up to reach the root of the project\n",
    "project_root = cwd.parents[1]\n",
    "\n",
    "# Build the path to the base folder and search folder\n",
    "base_folder = project_root / 'Original_datasets' / 'rtbc-begging'\n",
    "search_folder = base_folder / 'begging'\n",
    "\n",
    "# Traverse all subdirectories and find .wav files\n",
    "for full_path in search_folder.rglob('*.wav'):\n",
    "    try:\n",
    "        path_parts = full_path.parts\n",
    "        specie = path_parts[-3]   # E.g.: '32PC1'\n",
    "        year = path_parts[-2]     # E.g.: '2021-22'\n",
    "        filename = full_path.name # E.g.: '3.wav'\n",
    "\n",
    "        base_name = f\"{specie}_{year}_{full_path.stem}\"\n",
    "        extension = full_path.suffix\n",
    "\n",
    "        # Initial destination path\n",
    "        new_filename = f\"{base_name}{extension}\"\n",
    "        new_path = base_folder / new_filename\n",
    "\n",
    "        if new_path.exists():\n",
    "            print(f\"Skipped (already exists): {new_path}\")\n",
    "        else:\n",
    "            # Move the file\n",
    "            #shutil.move(str(full_path), str(new_path))\n",
    "            print(f\"Moved: {full_path} → {new_path}\") \n",
    "\n",
    "\n",
    "    except IndexError:\n",
    "        print(f\"Could not process: {full_path}\")"
   ]
  },
  {
   "cell_type": "code",
   "execution_count": 2,
   "id": "b1d6320f",
   "metadata": {},
   "outputs": [
    {
     "name": "stdout",
     "output_type": "stream",
     "text": [
      "0    32PC1/2022-23/57.wav\n",
      "1     32PC1/2022-23/0.wav\n",
      "2    32PC1/2022-23/74.wav\n",
      "3    32PC1/2022-23/20.wav\n",
      "4    32PC1/2022-23/60.wav\n",
      "Name: file_name, dtype: object\n",
      "0    32PC1_2022-23_57.wav\n",
      "1     32PC1_2022-23_0.wav\n",
      "2    32PC1_2022-23_74.wav\n",
      "3    32PC1_2022-23_20.wav\n",
      "4    32PC1_2022-23_60.wav\n",
      "Name: file_name, dtype: object\n"
     ]
    }
   ],
   "source": [
    "import pandas as pd\n",
    "\n",
    "Original_metada_folder = project_root / 'Original_metadata' / 'rtbc_metadata'\n",
    "file_path = Original_metada_folder /  'metadata.csv'\n",
    "\n",
    "# Load the new CSV file\n",
    "df = pd.read_csv(file_path)\n",
    "print(df['file_name'].head())\n",
    "\n",
    "# Modify the 'file_name' column to change the format\n",
    "# From: 32PC1/2022-23/57.wav  → To: 32PC1_2022-23_57.wav\n",
    "df['file_name'] = df['file_name'].apply(lambda x: x.replace('/', '_'))\n",
    "print(df['file_name'].head())\n"
   ]
  },
  {
   "cell_type": "code",
   "execution_count": 3,
   "id": "00fb7447",
   "metadata": {},
   "outputs": [],
   "source": [
    "Output_metada_folder = project_root / 'Output_metadata' / 'rtbc_metadata'\n",
    "file_path = Output_metada_folder /  'rtbc_metadata.csv'\n",
    "\n",
    "df.to_csv(file_path, index=False)"
   ]
  }
 ],
 "metadata": {
  "kernelspec": {
   "display_name": "perceptron",
   "language": "python",
   "name": "python3"
  },
  "language_info": {
   "codemirror_mode": {
    "name": "ipython",
    "version": 3
   },
   "file_extension": ".py",
   "mimetype": "text/x-python",
   "name": "python",
   "nbconvert_exporter": "python",
   "pygments_lexer": "ipython3",
   "version": "3.12.9"
  }
 },
 "nbformat": 4,
 "nbformat_minor": 5
}
