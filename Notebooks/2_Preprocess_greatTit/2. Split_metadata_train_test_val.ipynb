{
 "cells": [
  {
   "cell_type": "markdown",
   "metadata": {},
   "source": [
    "#  Import CSV data"
   ]
  },
  {
   "cell_type": "code",
   "execution_count": null,
   "metadata": {},
   "outputs": [
    {
     "name": "stdout",
     "output_type": "stream",
     "text": [
      "                                  filename     class_id         ID   father  \\\n",
      "0  20201B161_20200418_040000_130451999.wav  20201B161_1  20201B161  te80930   \n",
      "1   20201B161_20200418_050000_11502511.wav  20201B161_1  20201B161  te80930   \n",
      "2   20201B161_20200418_050000_13585746.wav  20201B161_1  20201B161  te80930   \n",
      "3   20201B161_20200418_050000_13982440.wav  20201B161_1  20201B161  te80930   \n",
      "4   20201B161_20200418_050000_20011659.wav  20201B161_1  20201B161  te80930   \n",
      "\n",
      "          0         1         2         3         4         5  ...       374  \\\n",
      "0  0.009118 -0.039894  0.019366  0.012394  0.025821  0.041465  ... -0.087559   \n",
      "1  0.015071 -0.094309  0.012136 -0.006451 -0.007025  0.044730  ... -0.089846   \n",
      "2  0.012520 -0.037601  0.030848  0.005622  0.046687  0.054802  ... -0.102847   \n",
      "3  0.017553 -0.055216  0.018768 -0.007323  0.017101  0.049850  ... -0.083391   \n",
      "4  0.033305 -0.048789  0.009809  0.000716  0.016080  0.029543  ... -0.081079   \n",
      "\n",
      "        375       376       377       378       379       380       381  \\\n",
      "0  0.003942 -0.039138  0.045033 -0.026501  0.069331  0.023100 -0.007022   \n",
      "1  0.006436 -0.055178  0.035964 -0.009658  0.037771  0.058808 -0.075454   \n",
      "2 -0.004241 -0.029241  0.051174 -0.037412  0.071012  0.019209  0.017237   \n",
      "3  0.001441 -0.029482  0.050818 -0.029794  0.038637  0.022456 -0.026888   \n",
      "4  0.004624 -0.048797  0.047911 -0.036521  0.064695  0.030184 -0.053446   \n",
      "\n",
      "        382       383  \n",
      "0 -0.077677  0.004901  \n",
      "1 -0.059461  0.011810  \n",
      "2 -0.096958 -0.021968  \n",
      "3 -0.061264 -0.019537  \n",
      "4 -0.084810 -0.037440  \n",
      "\n",
      "[5 rows x 388 columns]\n"
     ]
    }
   ],
   "source": [
    "from pathlib import Path\n",
    "import pandas as pd\n",
    "from sklearn.model_selection import train_test_split\n",
    "import shutil\n",
    "\n",
    "cwd = Path.cwd()\n",
    "project_root = cwd.parents[1]  # Assuming the project root is two levels up from the current working directory\n",
    "\n",
    "output_metadata_path = project_root / 'Output_metadata' / 'GreatTit_metadata' / 'final_greatTit_metadata.csv'\n",
    "final_data = pd.read_csv(output_metadata_path) \n",
    "\n",
    "final_data.rename(columns={final_data.columns[0]: \"filename\"}, inplace=True)\n",
    "final_data[\"filename\"] = final_data[\"filename\"].astype(str) + \".wav\"\n",
    "\n",
    "print(final_data.head())"
   ]
  },
  {
   "cell_type": "markdown",
   "metadata": {},
   "source": [
    "### Create 3 .csv files with the list of train, test, and val, including the original embeddings as well."
   ]
  },
  {
   "cell_type": "code",
   "execution_count": 2,
   "metadata": {},
   "outputs": [
    {
     "name": "stdout",
     "output_type": "stream",
     "text": [
      "Train: 59139  •  Val: 7396  •  Test: 7513\n"
     ]
    }
   ],
   "source": [
    "# Assuming cwd is in Notebooks/Preprocess_greatTit\n",
    "project_root = Path.cwd().parents[1]              # → /teamspace/studios/this_studio\n",
    "output_dir   = project_root / 'Output_metadata' / 'GreatTit_metadata'         # → …/output\n",
    "output_dir.mkdir(parents=True, exist_ok=True)\n",
    "\n",
    "# --- 1) Prepare containers and hyperparameters ---\n",
    "random_state = 42\n",
    "train_idx, val_idx, test_idx = [], [], []\n",
    "\n",
    "# --- 2) Split by individual (father) ---\n",
    "for indiv, group in final_data.groupby(\"father\", sort=True):\n",
    "    idx = group.index\n",
    "\n",
    "    # 80% train, 20% temp\n",
    "    train, temp = train_test_split(\n",
    "        idx, test_size=0.2, random_state=random_state\n",
    "    )\n",
    "    # 10% val, 10% test\n",
    "    val, test = train_test_split(\n",
    "        temp, test_size=0.5, random_state=random_state\n",
    "    )\n",
    "\n",
    "    train_idx.extend(train)\n",
    "    val_idx.extend(val)\n",
    "    test_idx.extend(test)\n",
    "\n",
    "# --- 3) Create the final DataFrames ---\n",
    "train_df = final_data.loc[train_idx].reset_index(drop=True)\n",
    "val_df   = final_data.loc[val_idx].reset_index(drop=True)\n",
    "test_df  = final_data.loc[test_idx].reset_index(drop=True)\n",
    "\n",
    "# --- 4) Save the metadata using pathlib paths ---\n",
    "train_df.to_csv(output_dir / \"train_metadata.csv\", index=False)\n",
    "val_df.to_csv(  output_dir / \"val_metadata.csv\",   index=False)\n",
    "test_df.to_csv( output_dir / \"test_metadata.csv\",  index=False)\n",
    "\n",
    "# --- 5) Verify sizes ---\n",
    "print(f\"Train: {len(train_df)}  •  Val: {len(val_df)}  •  Test: {len(test_df)}\")\n"
   ]
  },
  {
   "cell_type": "markdown",
   "metadata": {},
   "source": [
    "### Extract the name of each individual and count how many audio files each one has"
   ]
  },
  {
   "cell_type": "code",
   "execution_count": 3,
   "metadata": {},
   "outputs": [
    {
     "name": "stdout",
     "output_type": "stream",
     "text": [
      "Number of individuals: 242\n",
      "father\n",
      "vz33280    2389\n",
      "tv44361    2364\n",
      "ty69215    1367\n",
      "vz31728    1124\n",
      "vz31410    1092\n",
      "           ... \n",
      "te80791      16\n",
      "vz29148      16\n",
      "tw41650      15\n",
      "te80832      15\n",
      "vz32685      15\n",
      "Name: count, Length: 242, dtype: int64\n"
     ]
    }
   ],
   "source": [
    "folders = final_data['father'].astype(str)\n",
    "unique_folders = folders.nunique()\n",
    "print(f\"Number of individuals: {unique_folders}\")\n",
    "\n",
    "folder_counts = folders.value_counts()\n",
    "print(folder_counts)\n"
   ]
  },
  {
   "cell_type": "markdown",
   "metadata": {},
   "source": [
    "### This code Creates a base directory and subdirectories and then moves files based on metadata:\n",
    "  \n",
    "it:\n",
    "  - Extracts the file name and the corresponding subfolder (indicated by the \"father\" field).\n",
    "  - Ensures the destination subfolder exists.\n",
    "  - Checks if the file exists in the base folder.\n",
    "  - Moves the file from the base folder to its corresponding subfolder within the train, test, or validation directory, logging a message if the file isn't found.\n",
    "\n"
   ]
  },
  {
   "cell_type": "code",
   "execution_count": null,
   "metadata": {},
   "outputs": [],
   "source": [
    "base_folder = project_root / 'Original_datasets' / 'greatTit_song-files'\n",
    "base_folder.mkdir(parents=True, exist_ok=True)  # Ensure base_folder exists\n",
    "train_dir = base_folder / \"train\"\n",
    "test_dir = base_folder / \"test\"\n",
    "val_dir = base_folder / \"val\"\n",
    "\n",
    "train_dir.mkdir(parents=True, exist_ok=True)\n",
    "test_dir.mkdir(parents=True, exist_ok=True)\n",
    "val_dir.mkdir(parents=True, exist_ok=True)\n",
    "\n",
    "def move_files(df, dest_dir):\n",
    "    for _, row in df.iterrows():\n",
    "        audio_name = row.iloc[0]  \n",
    "        father = row['father']   \n",
    "        file_name = audio_name\n",
    "        src_path = base_folder / file_name\n",
    "        subfolder = dest_dir / father\n",
    "        subfolder.mkdir(exist_ok=True)\n",
    "        dest_path = subfolder / file_name\n",
    "        if src_path.exists():\n",
    "            shutil.move(str(src_path), str(dest_path))          \n",
    "        else:\n",
    "            print(f\"❌ File not found: {src_path}\")\n",
    "\n",
    "# Move files\n",
    "move_files(train_df, train_dir)\n",
    "move_files(test_df, test_dir)\n",
    "move_files(val_df, val_dir)"
   ]
  }
 ],
 "metadata": {
  "kernelspec": {
   "display_name": "perceptron",
   "language": "python",
   "name": "python3"
  },
  "language_info": {
   "codemirror_mode": {
    "name": "ipython",
    "version": 3
   },
   "file_extension": ".py",
   "mimetype": "text/x-python",
   "name": "python",
   "nbconvert_exporter": "python",
   "pygments_lexer": "ipython3",
   "version": "3.12.9"
  }
 },
 "nbformat": 4,
 "nbformat_minor": 2
}
