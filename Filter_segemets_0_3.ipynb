{
 "cells": [
  {
   "cell_type": "markdown",
   "metadata": {},
   "source": [
    "Se leen los embeddings que ya tienen etiquetas de los individuos."
   ]
  },
  {
   "cell_type": "code",
   "execution_count": 1,
   "metadata": {},
   "outputs": [],
   "source": [
    "import pandas as pd\n",
    "\n",
    "# Cargar los archivos CSV\n",
    "df_train = pd.read_csv(\"embeddings_train_with_father.csv\")\n",
    "df_val = pd.read_csv(\"embeddings_val_with_father.csv\")\n",
    "df_test = pd.read_csv(\"embeddings_test_with_father.csv\")\n"
   ]
  },
  {
   "cell_type": "markdown",
   "metadata": {},
   "source": [
    "Se filtran las filas con start_time == 0.0 y end_time == 3.0"
   ]
  },
  {
   "cell_type": "code",
   "execution_count": 2,
   "metadata": {},
   "outputs": [],
   "source": [
    "# Filtrar los datos\n",
    "df_train_filtered = df_train[(df_train[\"start_time\"] == 0.0) & (df_train[\"end_time\"] == 3.0)]\n",
    "df_val_filtered = df_val[(df_val[\"start_time\"] == 0.0) & (df_val[\"end_time\"] == 3.0)]\n",
    "df_test_filtered = df_test[(df_test[\"start_time\"] == 0.0) & (df_test[\"end_time\"] == 3.0)]\n"
   ]
  },
  {
   "cell_type": "markdown",
   "metadata": {},
   "source": [
    "Ver el tamaño de los datos y contar valores únicos."
   ]
  },
  {
   "cell_type": "code",
   "execution_count": 3,
   "metadata": {},
   "outputs": [
    {
     "name": "stdout",
     "output_type": "stream",
     "text": [
      "Tamaño de df_train: (59139, 1028)\n",
      "Tamaño de df_val: (7396, 1028)\n",
      "Tamaño de df_test: (7513, 1028)\n",
      "Valores únicos en file_name (train): 59139\n",
      "Valores únicos en file_name (val): 7396\n",
      "Valores únicos en file_name (test): 7513\n",
      "Valores únicos en father (train): 242\n",
      "Valores únicos en father (val): 242\n",
      "Valores únicos en father (test): 242\n"
     ]
    }
   ],
   "source": [
    "print(\"Tamaño de df_train:\", df_train_filtered.shape)\n",
    "print(\"Tamaño de df_val:\", df_val_filtered.shape)\n",
    "print(\"Tamaño de df_test:\", df_test_filtered.shape)\n",
    "\n",
    "print(\"Valores únicos en file_name (train):\", df_train_filtered[\"file_name\"].nunique())\n",
    "print(\"Valores únicos en file_name (val):\", df_val_filtered[\"file_name\"].nunique())\n",
    "print(\"Valores únicos en file_name (test):\", df_test_filtered[\"file_name\"].nunique())\n",
    "\n",
    "\n",
    "print(\"Valores únicos en father (train):\", df_train_filtered[\"father\"].nunique())\n",
    "print(\"Valores únicos en father (val):\", df_val_filtered[\"father\"].nunique())\n",
    "print(\"Valores únicos en father (test):\", df_test_filtered[\"father\"].nunique())\n",
    "\n",
    "\n",
    "\n"
   ]
  },
  {
   "cell_type": "markdown",
   "metadata": {},
   "source": [
    "Guardar los Dataframes filtrados"
   ]
  },
  {
   "cell_type": "code",
   "execution_count": 5,
   "metadata": {},
   "outputs": [],
   "source": [
    "df_train_filtered.to_csv(\"filtered_embeddings_train_with_father.csv\", index=False)\n",
    "df_val_filtered.to_csv(\"filtered_embeddings_val_with_father.csv\", index=False)\n",
    "df_test_filtered.to_csv(\"filtered_embeddings_test_with_father.csv\", index=False)\n"
   ]
  }
 ],
 "metadata": {
  "language_info": {
   "name": "python"
  }
 },
 "nbformat": 4,
 "nbformat_minor": 2
}
