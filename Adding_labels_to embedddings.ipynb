{
 "cells": [
  {
   "cell_type": "markdown",
   "metadata": {},
   "source": [
    "# Código para unir los archivos y agregar father a los embeddings\n",
    "\n",
    "1️⃣ Leer ambos archivos.\n",
    "2️⃣ Asegurar que los nombres de los archivos coincidan correctamente (quitando la extensión .WAV).\n",
    "3️⃣ Hacer la fusión (merge) usando la columna del nombre del archivo.\n",
    "4️⃣ Guardar el nuevo archivo con la columna father añadida."
   ]
  },
  {
   "cell_type": "code",
   "execution_count": 2,
   "metadata": {},
   "outputs": [
    {
     "name": "stdout",
     "output_type": "stream",
     "text": [
      "Index(['file_name', 'start_time', 'end_time', 'dim_1', 'dim_2', 'dim_3',\n",
      "       'dim_4', 'dim_5', 'dim_6', 'dim_7',\n",
      "       ...\n",
      "       'dim_1016', 'dim_1017', 'dim_1018', 'dim_1019', 'dim_1020', 'dim_1021',\n",
      "       'dim_1022', 'dim_1023', 'dim_1024', 'father'],\n",
      "      dtype='object', length=1028)\n",
      "Archivo final guardado como embeddings_with_father.csv con 9933 registros.\n",
      "                                file_name  start_time  end_time  dim_1  \\\n",
      "0  20221O78_20220420_040000_100851200.WAV         0.0       3.0    0.0   \n",
      "1  20221O78_20220420_040000_109139968.WAV         0.0       3.0    0.0   \n",
      "2  20221O78_20220420_040000_109139968.WAV         3.0       6.0    0.0   \n",
      "3  20221O78_20220420_040000_110464256.WAV         0.0       3.0    0.0   \n",
      "4  20221O78_20220420_040000_110464256.WAV         3.0       6.0    0.0   \n",
      "\n",
      "      dim_2     dim_3     dim_4     dim_5     dim_6     dim_7  ...  dim_1016  \\\n",
      "0  1.407996  0.000000  0.640566  0.254786  0.027021  0.508466  ...  0.359268   \n",
      "1  0.828240  0.656424  0.595352  0.442262  0.000000  1.476143  ...  1.069753   \n",
      "2  0.000000  0.042461  0.190854  0.888867  0.928903  0.000000  ...  0.104343   \n",
      "3  0.614807  0.271727  0.628999  0.218189  0.000000  1.234013  ...  0.996867   \n",
      "4  0.000000  0.275736  0.698905  0.582261  0.263738  0.341250  ...  0.127132   \n",
      "\n",
      "   dim_1017  dim_1018  dim_1019  dim_1020  dim_1021  dim_1022  dim_1023  \\\n",
      "0  0.172567  0.359673  0.520419  0.080579  0.053953  0.642137  1.072342   \n",
      "1  0.093609  0.000000  0.000000  0.455264  0.693747  0.636216  2.374050   \n",
      "2  0.117913  0.035272  0.167307  0.750452  0.522693  1.044898  0.380923   \n",
      "3  0.114984  0.000000  0.000000  0.474431  0.154789  0.161432  2.110811   \n",
      "4  0.019314  0.009895  0.095838  0.333277  0.333546  0.497279  0.236921   \n",
      "\n",
      "   dim_1024   father  \n",
      "0  0.088405  pf71344  \n",
      "1  0.603135  pf71344  \n",
      "2  2.086655  pf71344  \n",
      "3  0.474912  pf71344  \n",
      "4  1.627119  pf71344  \n",
      "\n",
      "[5 rows x 1028 columns]\n"
     ]
    }
   ],
   "source": [
    "import pandas as pd\n",
    "\n",
    "# Cargar los archivos\n",
    "# df_embeddings = pd.read_csv(\"embeddings_train_with_padding.csv\")\n",
    "# df_embeddings = pd.read_csv(\"embeddings_val_with_padding.csv\")\n",
    "df_embeddings = pd.read_csv(\"embeddings_test_with_padding.csv\")\n",
    "df_final_data = pd.read_csv(\"/teamspace/studios/single-classification/final_data.csv\")\n",
    "\n",
    "# Asegurar que los nombres coincidan agregando .WAV a la columna \"Unnamed: 0\"\n",
    "df_final_data[\"file_name\"] = df_final_data[\"Unnamed: 0\"].astype(str) + \".WAV\"\n",
    "\n",
    "# Fusionar los DataFrames usando merge()\n",
    "df_merged = df_embeddings.merge(df_final_data[[\"file_name\", \"father\"]], on=\"file_name\", how=\"left\")\n",
    "\n",
    "path_column = df_merged.pop(\"path\")\n",
    "print(df_merged.columns)\n",
    "\n",
    "# Guardar el nuevo archivo con la columna father añadida\n",
    "# df_merged.to_csv(\"embeddings_train_with_father.csv\", index=False)\n",
    "# df_merged.to_csv(\"embeddings_val_with_father.csv\", index=False)\n",
    "df_merged.to_csv(\"embeddings_test_with_father.csv\", index=False)\n",
    "\n",
    "print(f\"Archivo final guardado como embeddings_with_father.csv con {len(df_merged)} registros.\")\n",
    "print(df_merged.head(5))"
   ]
  },
  {
   "cell_type": "code",
   "execution_count": 3,
   "metadata": {},
   "outputs": [
    {
     "name": "stdout",
     "output_type": "stream",
     "text": [
      "                                file_name  start_time  end_time  dim_1  \\\n",
      "0  20221O78_20220420_040000_100851200.WAV         0.0       3.0    0.0   \n",
      "1  20221O78_20220420_040000_109139968.WAV         0.0       3.0    0.0   \n",
      "2  20221O78_20220420_040000_109139968.WAV         3.0       6.0    0.0   \n",
      "3  20221O78_20220420_040000_110464256.WAV         0.0       3.0    0.0   \n",
      "4  20221O78_20220420_040000_110464256.WAV         3.0       6.0    0.0   \n",
      "\n",
      "      dim_2     dim_3     dim_4     dim_5     dim_6     dim_7  ...  dim_1016  \\\n",
      "0  1.407996  0.000000  0.640566  0.254786  0.027021  0.508466  ...  0.359268   \n",
      "1  0.828240  0.656424  0.595352  0.442262  0.000000  1.476143  ...  1.069753   \n",
      "2  0.000000  0.042461  0.190854  0.888867  0.928903  0.000000  ...  0.104343   \n",
      "3  0.614807  0.271727  0.628999  0.218189  0.000000  1.234013  ...  0.996867   \n",
      "4  0.000000  0.275736  0.698905  0.582261  0.263738  0.341250  ...  0.127132   \n",
      "\n",
      "   dim_1017  dim_1018  dim_1019  dim_1020  dim_1021  dim_1022  dim_1023  \\\n",
      "0  0.172567  0.359673  0.520419  0.080579  0.053953  0.642137  1.072342   \n",
      "1  0.093609  0.000000  0.000000  0.455264  0.693747  0.636216  2.374050   \n",
      "2  0.117913  0.035272  0.167307  0.750452  0.522693  1.044898  0.380923   \n",
      "3  0.114984  0.000000  0.000000  0.474431  0.154789  0.161432  2.110811   \n",
      "4  0.019314  0.009895  0.095838  0.333277  0.333546  0.497279  0.236921   \n",
      "\n",
      "   dim_1024   father  \n",
      "0  0.088405  pf71344  \n",
      "1  0.603135  pf71344  \n",
      "2  2.086655  pf71344  \n",
      "3  0.474912  pf71344  \n",
      "4  1.627119  pf71344  \n",
      "\n",
      "[5 rows x 1028 columns]\n"
     ]
    }
   ],
   "source": [
    "print(df_merged.head(5))"
   ]
  },
  {
   "cell_type": "code",
   "execution_count": 4,
   "metadata": {},
   "outputs": [
    {
     "name": "stdout",
     "output_type": "stream",
     "text": [
      "Index(['file_name', 'start_time', 'end_time', 'dim_1', 'dim_2', 'dim_3',\n",
      "       'dim_4', 'dim_5', 'dim_6', 'dim_7',\n",
      "       ...\n",
      "       'dim_1016', 'dim_1017', 'dim_1018', 'dim_1019', 'dim_1020', 'dim_1021',\n",
      "       'dim_1022', 'dim_1023', 'dim_1024', 'father'],\n",
      "      dtype='object', length=1028)\n"
     ]
    }
   ],
   "source": []
  }
 ],
 "metadata": {
  "language_info": {
   "name": "python"
  }
 },
 "nbformat": 4,
 "nbformat_minor": 2
}
